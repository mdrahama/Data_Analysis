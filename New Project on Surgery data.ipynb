{
 "cells": [
  {
   "cell_type": "code",
   "execution_count": 229,
   "metadata": {},
   "outputs": [],
   "source": [
    "import pandas as pd\n",
    "import numpy as np\n",
    "import os   \n",
    "import glob\n",
    "import shutil\n",
    "import pandas as pd"
   ]
  },
  {
   "cell_type": "code",
   "execution_count": 230,
   "metadata": {},
   "outputs": [],
   "source": [
    "file = '2_new_Project.xlsx'\n",
    "excelFile = pd.ExcelFile(file)"
   ]
  },
  {
   "cell_type": "code",
   "execution_count": 231,
   "metadata": {},
   "outputs": [],
   "source": [
    "Duration_Experienced = pd.read_excel('2_new_Project.xlsx', sheet_name=0)\n",
    "Duration_low_experienced = pd.read_excel('2_new_Project.xlsx', sheet_name=1)\n",
    "Frequency_Experienced = pd.read_excel('2_new_Project.xlsx', sheet_name=2)\n",
    "Frequency_low_experienced = pd.read_excel('2_new_Project.xlsx', sheet_name=3)\n"
   ]
  },
  {
   "cell_type": "code",
   "execution_count": 232,
   "metadata": {},
   "outputs": [],
   "source": [
    "a = Duration_Experienced['mean'].nlargest()\n",
    "b = Duration_low_experienced['mean'].nlargest()\n",
    "\n",
    "c = Duration_Experienced['maximum'].nlargest()\n",
    "d = Duration_low_experienced['maximum'].nlargest()\n",
    "\n",
    "e = Duration_Experienced['median'].nlargest()\n",
    "f = Duration_low_experienced['median'].nlargest()\n",
    "\n",
    "g = Frequency_Experienced['mean'].nlargest()\n",
    "h = Frequency_low_experienced['mean'].nlargest()\n",
    "\n",
    "i = Frequency_Experienced['maximum'].nlargest()\n",
    "j = Frequency_low_experienced['maximum'].nlargest()\n",
    "\n",
    "k = Frequency_Experienced['median'].nlargest()\n",
    "l = Frequency_low_experienced['median'].nlargest()"
   ]
  },
  {
   "cell_type": "code",
   "execution_count": 233,
   "metadata": {},
   "outputs": [
    {
     "data": {
      "text/plain": [
       "8     0.199639\n",
       "0     0.162951\n",
       "16    0.112113\n",
       "1     0.096968\n",
       "9     0.041614\n",
       "Name: maximum, dtype: float64"
      ]
     },
     "execution_count": 233,
     "metadata": {},
     "output_type": "execute_result"
    }
   ],
   "source": [
    "j"
   ]
  },
  {
   "cell_type": "code",
   "execution_count": 234,
   "metadata": {},
   "outputs": [],
   "source": [
    "list_a = []\n",
    "for element in a.iteritems():\n",
    "    list_a.append(str(element[0])+'('+str(round(element[1],3))+')')\n",
    "    \n",
    "list_b = []\n",
    "for element in b.iteritems():\n",
    "    list_b.append(str(element[0])+'('+str(round(element[1],3))+')')\n",
    "    \n",
    "list_c = []\n",
    "for element in c.iteritems():\n",
    "    list_c.append(str(element[0])+'('+str(round(element[1],3))+')')\n",
    "    \n",
    "list_d = []\n",
    "for element in d.iteritems():\n",
    "    list_d.append(str(element[0])+'('+str(round(element[1],3))+')')\n",
    "    \n",
    "list_e = []\n",
    "for element in e.iteritems():\n",
    "    list_e.append(str(element[0])+'('+str(round(element[1],3))+')')\n",
    "    \n",
    "list_f = []\n",
    "for element in f.iteritems():\n",
    "    list_f.append(str(element[0])+'('+str(round(element[1],3))+')')\n",
    "    \n",
    "list_g = []\n",
    "for element in g.iteritems():\n",
    "    list_g.append(str(element[0])+'('+str(round(element[1],3))+')')\n",
    "    \n",
    "list_h = []\n",
    "for element in h.iteritems():\n",
    "    list_h.append(str(element[0])+'('+str(round(element[1],3))+')')\n",
    "    \n",
    "list_i = []\n",
    "for element in i.iteritems():\n",
    "    list_i.append(str(element[0])+'('+str(round(element[1],3))+')')\n",
    "    \n",
    "list_j = []\n",
    "for element in j.iteritems():\n",
    "    list_j.append(str(element[0])+'('+str(round(element[1],3))+')')\n",
    "    \n",
    "list_k = []\n",
    "for element in k.iteritems():\n",
    "    list_k.append(str(element[0])+'('+str(round(element[1],3))+')')\n",
    "    \n",
    "list_l = []\n",
    "for element in l.iteritems():\n",
    "    list_l.append(str(element[0])+'('+str(round(element[1],3))+')')"
   ]
  },
  {
   "cell_type": "code",
   "execution_count": 235,
   "metadata": {},
   "outputs": [
    {
     "name": "stdout",
     "output_type": "stream",
     "text": [
      "('0(4.381)', '0(0.084)')\n",
      "('1(3.518)', '8(0.057)')\n",
      "('8(2.832)', '16(0.05)')\n",
      "('16(2.733)', '1(0.032)')\n",
      "('24(1.855)', '9(0.015)')\n"
     ]
    }
   ],
   "source": [
    "mean_duration_table = list(zip(list_a,list_b))\n",
    "max_duration_table = list(zip(list_c,list_d))\n",
    "median_duration_table = list(zip(list_e,list_f))\n",
    "mean_frequency_table = list(zip(list_g,list_h))\n",
    "max_frequency_table = list(zip(list_i,list_j))\n",
    "median_frequency_table = list(zip(list_k,list_l))\n",
    "for i in median_frequency_table:\n",
    "    print(i)"
   ]
  },
  {
   "cell_type": "code",
   "execution_count": 236,
   "metadata": {},
   "outputs": [],
   "source": [
    "header_name = ['High_experinced', 'Low_experienced']\n",
    "mean_duration = pd.DataFrame(mean_duration_table,columns=header_name)\n",
    "max_duration = pd.DataFrame(max_duration_table,columns=header_name)\n",
    "median_duration = pd.DataFrame(median_duration_table,columns=header_name)\n",
    "mean_frequency = pd.DataFrame(mean_frequency_table,columns=header_name)\n",
    "max_frequency = pd.DataFrame(max_frequency_table,columns=header_name)\n",
    "median_frequency = pd.DataFrame(median_frequency_table,columns=header_name)"
   ]
  },
  {
   "cell_type": "code",
   "execution_count": 237,
   "metadata": {
    "scrolled": true
   },
   "outputs": [],
   "source": [
    "newFile = file.split(sep='.')[0] + '_table.xlsx'\n",
    "writer = pd.ExcelWriter(newFile)\n",
    "mean_duration.to_excel(writer,'mean_duration',index=False)\n",
    "max_duration.to_excel(writer,'max_duration',index=False)\n",
    "median_duration.to_excel(writer,'median_duration',index=False)\n",
    "mean_frequency.to_excel(writer,'mean_frequency',index=False)\n",
    "max_frequency.to_excel(writer,'max_frequency',index=False)\n",
    "median_frequency.to_excel(writer,'median_frequency',index=False)\n",
    "\n",
    "writer.save()"
   ]
  },
  {
   "cell_type": "code",
   "execution_count": null,
   "metadata": {},
   "outputs": [],
   "source": []
  },
  {
   "cell_type": "code",
   "execution_count": null,
   "metadata": {},
   "outputs": [],
   "source": []
  }
 ],
 "metadata": {
  "kernelspec": {
   "display_name": "Python 3",
   "language": "python",
   "name": "python3"
  },
  "language_info": {
   "codemirror_mode": {
    "name": "ipython",
    "version": 3
   },
   "file_extension": ".py",
   "mimetype": "text/x-python",
   "name": "python",
   "nbconvert_exporter": "python",
   "pygments_lexer": "ipython3",
   "version": "3.7.1"
  }
 },
 "nbformat": 4,
 "nbformat_minor": 2
}
